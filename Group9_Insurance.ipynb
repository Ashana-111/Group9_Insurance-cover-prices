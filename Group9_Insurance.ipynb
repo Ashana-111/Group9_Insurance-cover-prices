{
 "cells": [
  {
   "cell_type": "code",
   "execution_count": null,
   "metadata": {},
   "outputs": [],
   "source": [
    "import sklearn\n",
    "import seaborn as sns\n",
    "import numpy as np\n",
    "from sklearn.preprocessing import LabelEncoder\n",
    "from sklearn.impute import SimpleImputer\n",
    "from sklearn.linear_model import LinearRegression\n",
    "from sklearn.ensemble import RandomForestRegressor\n",
    "from sklearn.metrics import classification_report, confusion_matrix, r2_score\n",
    "import pandas as pd\n",
    "from matplotlib import pyplot as plt\n",
    "from sklearn.model_selection import train_test_split\n",
    "\n",
    "df = pd.read_csv(\"C:\\\\Users\\\\ASUS\\\\Downloads\\\\insurance.csv\")\n",
    "print(df.head())"
   ]
  },
  {
   "cell_type": "code",
   "execution_count": null,
   "metadata": {},
   "outputs": [],
   "source": [
    "print(\"-\"*30)\n",
    "print(df.info()) #Gives information about the columns\n",
    "print(df.describe()) # Describes the data. Mean, Median, Mode etc..."
   ]
  },
  {
   "cell_type": "code",
   "execution_count": null,
   "metadata": {},
   "outputs": [],
   "source": [
    "print(\"-\"*30)\n",
    "print(df.isnull().sum()) # Gives the number of Null or missing values"
   ]
  },
  {
   "cell_type": "code",
   "execution_count": null,
   "metadata": {},
   "outputs": [],
   "source": [
    "print(\"-\"*30)\n",
    "#Now let's check if the cost increases based on different factors.\n",
    "\n",
    "x=df[[\"sex\",\"charges\"]].groupby([\"sex\"],as_index=False).mean().sort_values(by=\"charges\",ascending=False)\n",
    "print(x) # Gives avg. charges for Male and Female.\n",
    "print(\"-\"*30)\n",
    "\n",
    "# Similarly we find for Smoker and Non-Smoker.\n",
    "print(df[[\"smoker\",\"charges\"]].groupby([\"smoker\"],as_index=False).mean().sort_values(by=\"charges\",ascending=False))\n",
    "print(\"-\"*30)\n",
    "\n",
    "#And Region\n",
    "print(df[[\"region\",\"charges\"]].groupby([\"region\"],as_index=False).mean().sort_values(by=\"charges\",ascending=False))\n"
   ]
  },
  {
   "cell_type": "code",
   "execution_count": null,
   "metadata": {},
   "outputs": [],
   "source": [
    "# Plot to show number of smokers and non-smokers that are male and female.\n",
    "\n",
    "sns.catplot(x=\"smoker\", kind=\"count\",hue = 'sex', palette=\"icefire_r\", data=df)\n",
    "plt.subplots_adjust(top=0.9)\n",
    "plt.title(\"The number of smokers and non-smokers\")\n",
    "plt.show()\n"
   ]
  },
  {
   "cell_type": "code",
   "execution_count": null,
   "metadata": {},
   "outputs": [],
   "source": [
    "sns.catplot(y=\"charges\",x=\"smoker\",hue ='sex', palette=\"spring_r\", data=df[(df.age<35)])\n",
    "plt.subplots_adjust(top=0.9)\n",
    "plt.title(\"The charges for smokers and non-smokers(Male and Female) age < 35\")\n",
    "plt.show()\n"
   ]
  },
  {
   "cell_type": "code",
   "execution_count": null,
   "metadata": {},
   "outputs": [],
   "source": [
    "sns.catplot(y=\"charges\",x=\"smoker\",hue ='sex', palette=\"rainbow\", data=df[(df.age>=35)])\n",
    "plt.subplots_adjust(top=0.9)\n",
    "plt.title(\"The charges for smokers and non-smokers(Male and Female) age >= 35\")\n",
    "plt.show()\n"
   ]
  },
  {
   "cell_type": "code",
   "execution_count": null,
   "metadata": {},
   "outputs": [],
   "source": [
    "plt.figure(figsize=(12,5))\n",
    "plt.title(\"Box plot for charges for Male and Female\")\n",
    "sns.boxplot(y=\"charges\", x=\"sex\", data = df , palette = 'twilight_r')\n",
    "plt.show()\n"
   ]
  },
  {
   "cell_type": "code",
   "execution_count": null,
   "metadata": {},
   "outputs": [],
   "source": [
    "# Scatter plot to show relationship between bmi and charges.\n",
    "print(\"-\"*30)\n",
    "plt.figure(figsize=(10,6))\n",
    "ax = sns.scatterplot(x='bmi',y='charges',data=df,palette='magma',hue='smoker')\n",
    "ax.set_title('Scatter plot of charges and bmi')\n",
    "\n",
    "# Scatter plot with a regression line.\n",
    "sns.lmplot(x=\"bmi\", y=\"charges\", hue=\"smoker\", data=df, palette = 'magma', height = 8)\n",
    "plt.show()\n"
   ]
  },
  {
   "cell_type": "code",
   "execution_count": null,
   "metadata": {},
   "outputs": [],
   "source": [
    "# Create Dummies for Categorical Variables\n",
    "\n",
    "l = LabelEncoder()\n",
    "# sex\n",
    "l.fit(df.sex.drop_duplicates()) \n",
    "df.sex = l.transform(df.sex)\n",
    "\n",
    "# smoker or not\n",
    "l.fit(df.smoker.drop_duplicates()) \n",
    "df.smoker = l.transform(df.smoker)\n",
    "\n",
    "# region\n",
    "l.fit(df.region.drop_duplicates()) \n",
    "df.region = l.transform(df.region)\n",
    "print(df.head()) # Check Dummies\n",
    "print(\"-\"*30)\n",
    "\n",
    "print(df.corr()) # Find Correlation among variables.\n",
    "print(\"-\"*30)\n"
   ]
  },
  {
   "cell_type": "code",
   "execution_count": null,
   "metadata": {},
   "outputs": [],
   "source": [
    "# Multivariate Linear Regression with Region\n",
    "\n",
    "X=df.drop([\"charges\"],axis=1).copy() # Define dependent and independent variable \n",
    "Y=df.charges\n",
    "lr = LinearRegression()\n",
    "X_train,X_test,Y_train,Y_test=train_test_split(X,Y,test_size=0.2,random_state=0) # Split data into training and test set (80:20)\n",
    "train=lr.fit(X_train,Y_train)\n",
    "pred=lr.predict(X_test)\n",
    "\n",
    "print(\"Prediction with region: \",r2_score(Y_test,pred)) # Accuracy\n",
    "print(\"-\"*30)\n"
   ]
  },
  {
   "cell_type": "code",
   "execution_count": null,
   "metadata": {},
   "outputs": [],
   "source": [
    "# Multivariate Linear Regression without Region since correlation is almost negligible.\n",
    "\n",
    "X1=df.drop([\"charges\",\"region\"],axis=1).copy() \n",
    "Y1=df.charges\n",
    "lr = LinearRegression()\n",
    "X1_train,X1_test,Y1_train,Y1_test=train_test_split(X1,Y1,test_size=0.2,random_state=0)\n",
    "train=lr.fit(X1_train,Y1_train)\n",
    "pred2=lr.predict(X1_test)\n",
    "\n",
    "print(\"Prediction without region: \",r2_score(Y1_test,pred2)) # Accuracy\n",
    "print(\"-\"*30)\n"
   ]
  },
  {
   "cell_type": "code",
   "execution_count": null,
   "metadata": {},
   "outputs": [],
   "source": [
    "# RandomForest Regressor\n",
    "rf = RandomForestRegressor()\n",
    "X2_train,X2_test,Y2_train,Y2_test=train_test_split(X,Y,random_state=0)\n",
    "rf.fit(X2_train,Y2_train)\n",
    "tr_pred = rf.predict(X2_train)\n",
    "te_pred = rf.predict(X2_test)\n",
    "\n",
    "print(\"R2 score\",r2_score(Y2_train,tr_pred)) # Accuracy on training set\n",
    "print(\"R2 Score\",r2_score(Y2_test,te_pred)) # Accuracy on test set\n"
   ]
  }
 ],
 "metadata": {
  "kernelspec": {
   "display_name": "Python 3",
   "language": "python",
   "name": "python3"
  },
  "language_info": {
   "codemirror_mode": {
    "name": "ipython",
    "version": 3
   },
   "file_extension": ".py",
   "mimetype": "text/x-python",
   "name": "python",
   "nbconvert_exporter": "python",
   "pygments_lexer": "ipython3",
   "version": "3.7.4"
  }
 },
 "nbformat": 4,
 "nbformat_minor": 2
}
